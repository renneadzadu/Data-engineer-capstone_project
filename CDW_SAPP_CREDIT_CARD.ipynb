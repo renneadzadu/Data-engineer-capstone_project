{
 "cells": [
  {
   "attachments": {},
   "cell_type": "markdown",
   "metadata": {},
   "source": [
    "### Import all python Liberies"
   ]
  },
  {
   "cell_type": "code",
   "execution_count": 90,
   "metadata": {},
   "outputs": [],
   "source": [
    "import pandas as pd\n",
    "import numpy as np\n",
    "import matplotlib.pyplot as plt\n",
    "from pyspark.sql import SparkSession\n",
    "from pyspark.sql.functions import *\n",
    "from pyspark.sql.types import *\n",
    "import pyspark.sql.functions as F\n",
    "import random\n"
   ]
  },
  {
   "attachments": {},
   "cell_type": "markdown",
   "metadata": {},
   "source": [
    "### Create spark session and load json files spark Dataframe"
   ]
  },
  {
   "cell_type": "code",
   "execution_count": 91,
   "metadata": {},
   "outputs": [
    {
     "name": "stdout",
     "output_type": "stream",
     "text": [
      "+-----------+----------------+---------+---+-----+--------------+----------------+-----------------+----+\n",
      "|BRANCH_CODE|  CREDIT_CARD_NO| CUST_SSN|DAY|MONTH|TRANSACTION_ID|TRANSACTION_TYPE|TRANSACTION_VALUE|YEAR|\n",
      "+-----------+----------------+---------+---+-----+--------------+----------------+-----------------+----+\n",
      "|        114|4210653349028689|123459988| 14|    2|             1|       Education|             78.9|2018|\n",
      "|         35|4210653349028689|123459988| 20|    3|             2|   Entertainment|            14.24|2018|\n",
      "|        160|4210653349028689|123459988|  8|    7|             3|         Grocery|             56.7|2018|\n",
      "|        114|4210653349028689|123459988| 19|    4|             4|   Entertainment|            59.73|2018|\n",
      "|         93|4210653349028689|123459988| 10|   10|             5|             Gas|             3.59|2018|\n",
      "+-----------+----------------+---------+---+-----+--------------+----------------+-----------------+----+\n",
      "only showing top 5 rows\n",
      "\n"
     ]
    }
   ],
   "source": [
    "spark = SparkSession.Builder().appName(\"Loan credit card\").getOrCreate()\n",
    "\n",
    "df= spark.read.json(\"datasets/cdw_sapp_credit.json\")\n",
    "\n",
    "df.show(5)"
   ]
  },
  {
   "cell_type": "code",
   "execution_count": 92,
   "metadata": {},
   "outputs": [
    {
     "data": {
      "image/png": "[encoded data removed]",
      "text/plain": [
       "<Figure size 640x480 with 1 Axes>"
      ]
     },
     "metadata": {},
     "output_type": "display_data"
    }
   ],
   "source": [
    "\n",
    "monthly_totals = df.groupby('MONTH') \\\n",
    "                                     .agg(F.sum('TRANSACTION_VALUE').alias('TOTAL_VALUE'))\n",
    "\n",
    "top_three_months = monthly_totals.orderBy(F.desc('TOTAL_VALUE')).limit(3).toPandas()\n",
    "\n",
    "months = top_three_months['MONTH']\n",
    "totals = top_three_months['TOTAL_VALUE']\n",
    "\n",
    "colors = ['#' + ''.join([random.choice('0123456789ABCDEF') for _ in range(6)]) for _ in range(3)]\n",
    "\n",
    "plt.bar(months, totals, color=colors)\n",
    "plt.xlabel('Month')\n",
    "plt.ylabel('Transaction Value')\n",
    "plt.title('Top Three Months with Largest Transaction Data')\n",
    "plt.show()\n"
   ]
  },
  {
   "attachments": {},
   "cell_type": "markdown",
   "metadata": {},
   "source": [
    "### Print details about the dataFrame"
   ]
  },
  {
   "cell_type": "code",
   "execution_count": 93,
   "metadata": {},
   "outputs": [
    {
     "name": "stdout",
     "output_type": "stream",
     "text": [
      "rows: 46694\n",
      "9\n",
      "+-------+------------------+--------------------+-------------------+-----------------+------------------+------------------+----------------+------------------+--------------------+\n",
      "|summary|       BRANCH_CODE|      CREDIT_CARD_NO|           CUST_SSN|              DAY|             MONTH|    TRANSACTION_ID|TRANSACTION_TYPE| TRANSACTION_VALUE|                YEAR|\n",
      "+-------+------------------+--------------------+-------------------+-----------------+------------------+------------------+----------------+------------------+--------------------+\n",
      "|  count|             46694|               46694|              46694|            46694|             46694|             46694|           46694|             46694|               46694|\n",
      "|   mean| 75.00057823274939|4.210653353368964E15|1.234555184812824E8|14.50736711354778| 6.516875829871076|           23347.5|            null| 51.03938214759932|              2018.0|\n",
      "| stddev|51.389074910957895|2.5604641248039957E7| 2561.2609103365367|8.066305022516385|3.4535079421269828|13479.541071564714|            null|28.783264046884938|1.19216201391582E-13|\n",
      "|    min|                 1|    4210653310061055|          123451007|                1|                 1|                 1|           Bills|              1.01|                2018|\n",
      "|    max|               192|    4210653399939240|          123459988|               28|                12|             46694|            Test|            100.99|                2018|\n",
      "+-------+------------------+--------------------+-------------------+-----------------+------------------+------------------+----------------+------------------+--------------------+\n",
      "\n",
      "root\n",
      " |-- BRANCH_CODE: long (nullable = true)\n",
      " |-- CREDIT_CARD_NO: string (nullable = true)\n",
      " |-- CUST_SSN: long (nullable = true)\n",
      " |-- DAY: long (nullable = true)\n",
      " |-- MONTH: long (nullable = true)\n",
      " |-- TRANSACTION_ID: long (nullable = true)\n",
      " |-- TRANSACTION_TYPE: string (nullable = true)\n",
      " |-- TRANSACTION_VALUE: double (nullable = true)\n",
      " |-- YEAR: long (nullable = true)\n",
      "\n"
     ]
    },
    {
     "data": {
      "text/plain": [
       "['BRANCH_CODE',\n",
       " 'CREDIT_CARD_NO',\n",
       " 'CUST_SSN',\n",
       " 'DAY',\n",
       " 'MONTH',\n",
       " 'TRANSACTION_ID',\n",
       " 'TRANSACTION_TYPE',\n",
       " 'TRANSACTION_VALUE',\n",
       " 'YEAR']"
      ]
     },
     "execution_count": 93,
     "metadata": {},
     "output_type": "execute_result"
    }
   ],
   "source": [
    "print(f\"rows: {df.count()}\")\n",
    "print(len(df.columns))\n",
    "df.describe().show()\n",
    "df.printSchema()\n",
    "df.columns"
   ]
  },
  {
   "attachments": {},
   "cell_type": "markdown",
   "metadata": {},
   "source": [
    "### Typecasting Datatypes"
   ]
  },
  {
   "cell_type": "code",
   "execution_count": 94,
   "metadata": {},
   "outputs": [
    {
     "data": {
      "text/plain": [
       "[('BRANCH_CODE', 'int'),\n",
       " ('CREDIT_CARD_NO', 'string'),\n",
       " ('CUST_SSN', 'int'),\n",
       " ('DAY', 'bigint'),\n",
       " ('MONTH', 'bigint'),\n",
       " ('TRANSACTION_ID', 'int'),\n",
       " ('TRANSACTION_TYPE', 'string'),\n",
       " ('TRANSACTION_VALUE', 'double'),\n",
       " ('YEAR', 'bigint')]"
      ]
     },
     "execution_count": 94,
     "metadata": {},
     "output_type": "execute_result"
    }
   ],
   "source": [
    "df = df.withColumn(\"BRANCH_CODE\", col(\"BRANCH_CODE\").cast(IntegerType()))\n",
    "df = df.withColumn(\"CUST_SSN\", col(\"CUST_SSN\").cast(IntegerType()))\n",
    "df = df.withColumn(\"TRANSACTION_ID\", col(\"TRANSACTION_ID\").cast(IntegerType()))\n",
    "df = df.withColumn(\"TRANSACTION_VALUE\", col(\"TRANSACTION_VALUE\").cast(DoubleType()))\n",
    "\n",
    "df.dtypes"
   ]
  },
  {
   "attachments": {},
   "cell_type": "markdown",
   "metadata": {},
   "source": [
    "### Convert DAY, MONTH, and YEAR into a TIMEID (YYYYMMDD)"
   ]
  },
  {
   "cell_type": "code",
   "execution_count": 95,
   "metadata": {},
   "outputs": [
    {
     "name": "stdout",
     "output_type": "stream",
     "text": [
      "+-----------+----------------+---------+---+-----+--------------+----------------+-----------------+----+--------+\n",
      "|BRANCH_CODE|  CREDIT_CARD_NO| CUST_SSN|DAY|MONTH|TRANSACTION_ID|TRANSACTION_TYPE|TRANSACTION_VALUE|YEAR|  TIMEID|\n",
      "+-----------+----------------+---------+---+-----+--------------+----------------+-----------------+----+--------+\n",
      "|        114|4210653349028689|123459988| 14|    2|             1|       Education|             78.9|2018|20180214|\n",
      "|         35|4210653349028689|123459988| 20|    3|             2|   Entertainment|            14.24|2018|20180320|\n",
      "|        160|4210653349028689|123459988|  8|    7|             3|         Grocery|             56.7|2018|20180708|\n",
      "|        114|4210653349028689|123459988| 19|    4|             4|   Entertainment|            59.73|2018|20180419|\n",
      "|         93|4210653349028689|123459988| 10|   10|             5|             Gas|             3.59|2018|20181010|\n",
      "|        164|4210653349028689|123459988| 28|    5|             6|       Education|             6.89|2018|20180528|\n",
      "|        119|4210653349028689|123459988| 19|    5|             7|   Entertainment|            43.39|2018|20180519|\n",
      "|         23|4210653349028689|123459988|  8|    8|             8|             Gas|            95.39|2018|20180808|\n",
      "|        166|4210653349028689|123459988| 18|    3|             9|   Entertainment|            93.26|2018|20180318|\n",
      "|         83|4210653349028689|123459988|  3|    9|            10|           Bills|           100.38|2018|20180903|\n",
      "|         52|4210653349028689|123459988| 21|    8|            11|             Gas|            98.75|2018|20180821|\n",
      "|         17|4210653349028689|123459988| 24|   12|            12|             Gas|            42.71|2018|20181224|\n",
      "|         80|4210653349028689|123459988|  3|    4|            13|         Grocery|            40.24|2018|20180403|\n",
      "|         50|4210653349028689|123459988| 15|    4|            14|           Bills|            17.81|2018|20180415|\n",
      "|        123|4210653349028689|123459988| 17|    5|            15|           Bills|             29.0|2018|20180517|\n",
      "|          9|4210653349028689|123459988|  6|    7|            16|            Test|            70.63|2018|20180706|\n",
      "|          3|4210653349028689|123459988| 28|    9|            17|            Test|            27.04|2018|20180928|\n",
      "|        135|4210653349028689|123459988|  4|    7|            18|   Entertainment|            88.75|2018|20180704|\n",
      "|        103|4210653349028689|123459988| 24|    4|            19|            Test|            77.02|2018|20180424|\n",
      "|         78|4210653349028689|123459988|  8|   10|            20|           Bills|            34.34|2018|20181008|\n",
      "+-----------+----------------+---------+---+-----+--------------+----------------+-----------------+----+--------+\n",
      "only showing top 20 rows\n",
      "\n"
     ]
    }
   ],
   "source": [
    "df = df.withColumn(\"TIMEID\", concat(df.YEAR.cast(\"string\"), \n",
    "                                    lpad(df.MONTH.cast(\"string\"), 2, \"0\"), \n",
    "                                    lpad(df.DAY.cast(\"string\"), 2, \"0\")))\n",
    "df.show()"
   ]
  },
  {
   "attachments": {},
   "cell_type": "markdown",
   "metadata": {},
   "source": [
    "### Dropping Day, Month and Year to meet requirment"
   ]
  },
  {
   "cell_type": "code",
   "execution_count": 96,
   "metadata": {},
   "outputs": [],
   "source": [
    "# df=df.drop(\"DAY\")\n",
    "# df=df.drop(\"MONTH\")\n",
    "# df=df.drop(\"YEAR\")"
   ]
  },
  {
   "attachments": {},
   "cell_type": "markdown",
   "metadata": {},
   "source": [
    "### Renaming Column"
   ]
  },
  {
   "cell_type": "code",
   "execution_count": 97,
   "metadata": {},
   "outputs": [],
   "source": [
    "df = df.withColumnRenamed(\"CREDIT_CARD_NO\", \"CUST_CC_NO\")"
   ]
  },
  {
   "attachments": {},
   "cell_type": "markdown",
   "metadata": {},
   "source": [
    "### Display of the new DF"
   ]
  },
  {
   "cell_type": "code",
   "execution_count": 98,
   "metadata": {},
   "outputs": [
    {
     "name": "stdout",
     "output_type": "stream",
     "text": [
      "+-----------+----------------+---------+---+-----+--------------+----------------+-----------------+----+--------+\n",
      "|BRANCH_CODE|      CUST_CC_NO| CUST_SSN|DAY|MONTH|TRANSACTION_ID|TRANSACTION_TYPE|TRANSACTION_VALUE|YEAR|  TIMEID|\n",
      "+-----------+----------------+---------+---+-----+--------------+----------------+-----------------+----+--------+\n",
      "|        114|4210653349028689|123459988| 14|    2|             1|       Education|             78.9|2018|20180214|\n",
      "|         35|4210653349028689|123459988| 20|    3|             2|   Entertainment|            14.24|2018|20180320|\n",
      "|        160|4210653349028689|123459988|  8|    7|             3|         Grocery|             56.7|2018|20180708|\n",
      "|        114|4210653349028689|123459988| 19|    4|             4|   Entertainment|            59.73|2018|20180419|\n",
      "|         93|4210653349028689|123459988| 10|   10|             5|             Gas|             3.59|2018|20181010|\n",
      "|        164|4210653349028689|123459988| 28|    5|             6|       Education|             6.89|2018|20180528|\n",
      "|        119|4210653349028689|123459988| 19|    5|             7|   Entertainment|            43.39|2018|20180519|\n",
      "|         23|4210653349028689|123459988|  8|    8|             8|             Gas|            95.39|2018|20180808|\n",
      "|        166|4210653349028689|123459988| 18|    3|             9|   Entertainment|            93.26|2018|20180318|\n",
      "|         83|4210653349028689|123459988|  3|    9|            10|           Bills|           100.38|2018|20180903|\n",
      "|         52|4210653349028689|123459988| 21|    8|            11|             Gas|            98.75|2018|20180821|\n",
      "|         17|4210653349028689|123459988| 24|   12|            12|             Gas|            42.71|2018|20181224|\n",
      "|         80|4210653349028689|123459988|  3|    4|            13|         Grocery|            40.24|2018|20180403|\n",
      "|         50|4210653349028689|123459988| 15|    4|            14|           Bills|            17.81|2018|20180415|\n",
      "|        123|4210653349028689|123459988| 17|    5|            15|           Bills|             29.0|2018|20180517|\n",
      "|          9|4210653349028689|123459988|  6|    7|            16|            Test|            70.63|2018|20180706|\n",
      "|          3|4210653349028689|123459988| 28|    9|            17|            Test|            27.04|2018|20180928|\n",
      "|        135|4210653349028689|123459988|  4|    7|            18|   Entertainment|            88.75|2018|20180704|\n",
      "|        103|4210653349028689|123459988| 24|    4|            19|            Test|            77.02|2018|20180424|\n",
      "|         78|4210653349028689|123459988|  8|   10|            20|           Bills|            34.34|2018|20181008|\n",
      "+-----------+----------------+---------+---+-----+--------------+----------------+-----------------+----+--------+\n",
      "only showing top 20 rows\n",
      "\n"
     ]
    }
   ],
   "source": [
    "df.show()"
   ]
  },
  {
   "attachments": {},
   "cell_type": "markdown",
   "metadata": {},
   "source": [
    "### Rearranging columns and assigning it a new variable"
   ]
  },
  {
   "cell_type": "code",
   "execution_count": 113,
   "metadata": {},
   "outputs": [],
   "source": [
    "CDW_SAPP_CREDIT_CARD = df.select(\"CUST_CC_NO\",\"TIMEID\",\"CUST_SSN\",\"BRANCH_CODE\",\"TRANSACTION_TYPE\",\"TRANSACTION_VALUE\",\"TRANSACTION_ID\",\"DAY\",\"MONTH\",\"YEAR\")"
   ]
  },
  {
   "attachments": {},
   "cell_type": "markdown",
   "metadata": {},
   "source": [
    "### Displing the updated DF"
   ]
  },
  {
   "cell_type": "code",
   "execution_count": 114,
   "metadata": {},
   "outputs": [
    {
     "name": "stdout",
     "output_type": "stream",
     "text": [
      "+----------------+--------+---------+-----------+----------------+-----------------+--------------+---+-----+----+\n",
      "|      CUST_CC_NO|  TIMEID| CUST_SSN|BRANCH_CODE|TRANSACTION_TYPE|TRANSACTION_VALUE|TRANSACTION_ID|DAY|MONTH|YEAR|\n",
      "+----------------+--------+---------+-----------+----------------+-----------------+--------------+---+-----+----+\n",
      "|4210653349028689|20180214|123459988|        114|       Education|             78.9|             1| 14|    2|2018|\n",
      "|4210653349028689|20180320|123459988|         35|   Entertainment|            14.24|             2| 20|    3|2018|\n",
      "|4210653349028689|20180708|123459988|        160|         Grocery|             56.7|             3|  8|    7|2018|\n",
      "|4210653349028689|20180419|123459988|        114|   Entertainment|            59.73|             4| 19|    4|2018|\n",
      "|4210653349028689|20181010|123459988|         93|             Gas|             3.59|             5| 10|   10|2018|\n",
      "|4210653349028689|20180528|123459988|        164|       Education|             6.89|             6| 28|    5|2018|\n",
      "|4210653349028689|20180519|123459988|        119|   Entertainment|            43.39|             7| 19|    5|2018|\n",
      "|4210653349028689|20180808|123459988|         23|             Gas|            95.39|             8|  8|    8|2018|\n",
      "|4210653349028689|20180318|123459988|        166|   Entertainment|            93.26|             9| 18|    3|2018|\n",
      "|4210653349028689|20180903|123459988|         83|           Bills|           100.38|            10|  3|    9|2018|\n",
      "|4210653349028689|20180821|123459988|         52|             Gas|            98.75|            11| 21|    8|2018|\n",
      "|4210653349028689|20181224|123459988|         17|             Gas|            42.71|            12| 24|   12|2018|\n",
      "|4210653349028689|20180403|123459988|         80|         Grocery|            40.24|            13|  3|    4|2018|\n",
      "|4210653349028689|20180415|123459988|         50|           Bills|            17.81|            14| 15|    4|2018|\n",
      "|4210653349028689|20180517|123459988|        123|           Bills|             29.0|            15| 17|    5|2018|\n",
      "|4210653349028689|20180706|123459988|          9|            Test|            70.63|            16|  6|    7|2018|\n",
      "|4210653349028689|20180928|123459988|          3|            Test|            27.04|            17| 28|    9|2018|\n",
      "|4210653349028689|20180704|123459988|        135|   Entertainment|            88.75|            18|  4|    7|2018|\n",
      "|4210653349028689|20180424|123459988|        103|            Test|            77.02|            19| 24|    4|2018|\n",
      "|4210653349028689|20181008|123459988|         78|           Bills|            34.34|            20|  8|   10|2018|\n",
      "+----------------+--------+---------+-----------+----------------+-----------------+--------------+---+-----+----+\n",
      "only showing top 20 rows\n",
      "\n"
     ]
    }
   ],
   "source": [
    "CDW_SAPP_CREDIT_CARD.show()"
   ]
  },
  {
   "attachments": {},
   "cell_type": "markdown",
   "metadata": {},
   "source": [
    "### Printing the datatype"
   ]
  },
  {
   "cell_type": "code",
   "execution_count": 108,
   "metadata": {},
   "outputs": [
    {
     "data": {
      "text/plain": [
       "[('CUST_CC_NO', 'string'),\n",
       " ('TIMEID', 'string'),\n",
       " ('CUST_SSN', 'int'),\n",
       " ('BRANCH_CODE', 'int'),\n",
       " ('TRANSACTION_TYPE', 'string'),\n",
       " ('TRANSACTION_VALUE', 'double'),\n",
       " ('TRANSACTION_ID', 'int'),\n",
       " ('YEAR', 'bigint')]"
      ]
     },
     "execution_count": 108,
     "metadata": {},
     "output_type": "execute_result"
    }
   ],
   "source": [
    "CDW_SAPP_CREDIT_CARD.dtypes"
   ]
  },
  {
   "attachments": {},
   "cell_type": "markdown",
   "metadata": {},
   "source": [
    "### Load data into MYSQL Database called creditcard_capstone"
   ]
  },
  {
   "cell_type": "code",
   "execution_count": 116,
   "metadata": {},
   "outputs": [],
   "source": [
    "CDW_SAPP_CREDIT_CARD.write.format(\"jdbc\") \\\n",
    "  .mode(\"append\") \\\n",
    "  .option(\"url\", \"jdbc:mysql://localhost:3306/creditcard_capstone\") \\\n",
    "  .option(\"dbtable\", \"CDW_SAPP_CREDIT_CARD\") \\\n",
    "  .option(\"user\", \"root\") \\\n",
    "  .option(\"password\", \"password\") \\\n",
    "  .save()"
   ]
  },
  {
   "cell_type": "code",
   "execution_count": null,
   "metadata": {},
   "outputs": [],
   "source": [
    "transaction_rates = CDW_SAPP_CREDIT_CARD.groupBy(\"TRANSACTION_TYPE\").count().orderBy(\"count\", ascending=False)\n",
    "types = [row[\"TRANSACTION_TYPE\"] for row in transaction_rates.collect()]\n",
    "counts = [row[\"count\"] for row in transaction_rates.collect()]\n",
    "\n",
    "colors = ['#' + ''.join([random.choice('0123456789ABCDEF') for _ in range(6)]) for _ in range(3)]\n",
    "\n",
    "plt.figure(figsize=(10, 6))\n",
    "plt.barh(types, counts, color=colors)\n",
    "\n",
    "plt.xlabel(\"Transaction Type\")\n",
    "plt.ylabel(\"Transaction Count\")\n",
    "plt.title(\"Transaction Rates by Transaction Type\")\n",
    "plt.show()\n"
   ]
  },
  {
   "cell_type": "code",
   "execution_count": null,
   "metadata": {},
   "outputs": [],
   "source": [
    "branch_totals = CDW_SAPP_CREDIT_CARD \\\n",
    "    .filter(col('TRANSACTION_TYPE') == 'Healthcare') \\\n",
    "    .groupBy('BRANCH_CODE') \\\n",
    "    .agg({'TRANSACTION_VALUE': 'sum'}) \\\n",
    "    .withColumnRenamed('sum(TRANSACTION_VALUE)', 'total_value')\n",
    "\n",
    "highest_branch = branch_totals \\\n",
    "    .orderBy(col('total_value').desc()) \\\n",
    "    .select('BRANCH_CODE') \\\n",
    "    .first()[0]\n",
    "\n",
    "branch_totals_df = branch_totals.toPandas()\n",
    "\n",
    "# Graph\n",
    "plt.figure(figsize=(10, 6))\n",
    "plt.bar(branch_totals_df['BRANCH_CODE'], branch_totals_df['total_value'], color='blue')\n",
    "\n",
    "plt.xlabel('Branch Number')\n",
    "plt.ylabel('Total Value of Healthcare Transactions')\n",
    "plt.title('Total Dollar Value of Healthcare Transactions by Branch')\n",
    "plt.show()\n"
   ]
  }
 ],
 "metadata": {
  "kernelspec": {
   "display_name": "Python 3",
   "language": "python",
   "name": "python3"
  },
  "language_info": {
   "codemirror_mode": {
    "name": "ipython",
    "version": 3
   },
   "file_extension": ".py",
   "mimetype": "text/x-python",
   "name": "python",
   "nbconvert_exporter": "python",
   "pygments_lexer": "ipython3",
   "version": "3.10.10"
  },
  "orig_nbformat": 4
 },
 "nbformat": 4,
 "nbformat_minor": 2
}
