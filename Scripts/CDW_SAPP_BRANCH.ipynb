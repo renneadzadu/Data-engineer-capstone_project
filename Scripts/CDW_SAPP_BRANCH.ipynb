{
 "cells": [
  {
   "attachments": {},
   "cell_type": "markdown",
   "metadata": {},
   "source": [
    "### Import all python Liberies"
   ]
  },
  {
   "cell_type": "code",
   "execution_count": 1,
   "metadata": {},
   "outputs": [],
   "source": [
    "import pandas as pd\n",
    "import numpy as np\n",
    "from pyspark.sql import SparkSession\n",
    "from pyspark.sql.functions import *\n",
    "from pyspark.sql.types import *"
   ]
  },
  {
   "attachments": {},
   "cell_type": "markdown",
   "metadata": {},
   "source": [
    "### Create spark session and load json files spark Dataframe"
   ]
  },
  {
   "cell_type": "code",
   "execution_count": 2,
   "metadata": {},
   "outputs": [
    {
     "name": "stdout",
     "output_type": "stream",
     "text": [
      "+-----------------+-----------+------------+------------+------------+-----------------+----------+--------------------+\n",
      "|      BRANCH_CITY|BRANCH_CODE| BRANCH_NAME|BRANCH_PHONE|BRANCH_STATE|    BRANCH_STREET|BRANCH_ZIP|        LAST_UPDATED|\n",
      "+-----------------+-----------+------------+------------+------------+-----------------+----------+--------------------+\n",
      "|        Lakeville|          1|Example Bank|  1234565276|          MN|     Bridle Court|     55044|2018-04-18T16:51:...|\n",
      "|          Huntley|          2|Example Bank|  1234618993|          IL|Washington Street|     60142|2018-04-18T16:51:...|\n",
      "|SouthRichmondHill|          3|Example Bank|  1234985926|          NY|    Warren Street|     11419|2018-04-18T16:51:...|\n",
      "|       Middleburg|          4|Example Bank|  1234663064|          FL| Cleveland Street|     32068|2018-04-18T16:51:...|\n",
      "|    KingOfPrussia|          5|Example Bank|  1234849701|          PA|      14th Street|     19406|2018-04-18T16:51:...|\n",
      "+-----------------+-----------+------------+------------+------------+-----------------+----------+--------------------+\n",
      "only showing top 5 rows\n",
      "\n"
     ]
    }
   ],
   "source": [
    "spark = SparkSession.Builder().appName(\"Loan credit card\").getOrCreate()\n",
    "\n",
    "df= spark.read.json(\"datasets/cdw_sapp_branch.json\")\n",
    "df.show(5)"
   ]
  },
  {
   "cell_type": "code",
   "execution_count": 3,
   "metadata": {},
   "outputs": [
    {
     "data": {
      "text/html": [
       "\n",
       "            <div>\n",
       "                <p><b>SparkSession - in-memory</b></p>\n",
       "                \n",
       "        <div>\n",
       "            <p><b>SparkContext</b></p>\n",
       "\n",
       "            <p><a href=\"http://DESKTOP-NMGTM70:4040\">Spark UI</a></p>\n",
       "\n",
       "            <dl>\n",
       "              <dt>Version</dt>\n",
       "                <dd><code>v3.4.0</code></dd>\n",
       "              <dt>Master</dt>\n",
       "                <dd><code>local[*]</code></dd>\n",
       "              <dt>AppName</dt>\n",
       "                <dd><code>Loan credit card</code></dd>\n",
       "            </dl>\n",
       "        </div>\n",
       "        \n",
       "            </div>\n",
       "        "
      ],
      "text/plain": [
       "<pyspark.sql.session.SparkSession at 0x13410e69c60>"
      ]
     },
     "execution_count": 3,
     "metadata": {},
     "output_type": "execute_result"
    }
   ],
   "source": [
    "spark"
   ]
  },
  {
   "attachments": {},
   "cell_type": "markdown",
   "metadata": {},
   "source": [
    "### Print details about the dataFrame"
   ]
  },
  {
   "cell_type": "code",
   "execution_count": 4,
   "metadata": {},
   "outputs": [
    {
     "name": "stdout",
     "output_type": "stream",
     "text": [
      "rows: 115\n",
      "8\n",
      "+-------+-----------+-----------------+------------+--------------------+------------+-------------+------------------+--------------------+\n",
      "|summary|BRANCH_CITY|      BRANCH_CODE| BRANCH_NAME|        BRANCH_PHONE|BRANCH_STATE|BRANCH_STREET|        BRANCH_ZIP|        LAST_UPDATED|\n",
      "+-------+-----------+-----------------+------------+--------------------+------------+-------------+------------------+--------------------+\n",
      "|  count|        115|              115|         115|                 115|         115|          115|               115|                 115|\n",
      "|   mean|       null|76.67826086956522|        null|1.2345499259478261E9|        null|         null|  38975.2347826087|                null|\n",
      "| stddev|       null|52.94113709535237|        null|  258751.74757815443|        null|         null|23938.156819564818|                null|\n",
      "|    min|    Acworth|                1|Example Bank|          1234105725|          AL|  11th Street|              2155|2018-04-18T16:51:...|\n",
      "|    max|   YubaCity|              197|Example Bank|          1234985926|          WI|  York Street|             98908|2018-04-18T16:51:...|\n",
      "+-------+-----------+-----------------+------------+--------------------+------------+-------------+------------------+--------------------+\n",
      "\n",
      "root\n",
      " |-- BRANCH_CITY: string (nullable = true)\n",
      " |-- BRANCH_CODE: long (nullable = true)\n",
      " |-- BRANCH_NAME: string (nullable = true)\n",
      " |-- BRANCH_PHONE: string (nullable = true)\n",
      " |-- BRANCH_STATE: string (nullable = true)\n",
      " |-- BRANCH_STREET: string (nullable = true)\n",
      " |-- BRANCH_ZIP: long (nullable = true)\n",
      " |-- LAST_UPDATED: string (nullable = true)\n",
      "\n"
     ]
    },
    {
     "data": {
      "text/plain": [
       "['BRANCH_CITY',\n",
       " 'BRANCH_CODE',\n",
       " 'BRANCH_NAME',\n",
       " 'BRANCH_PHONE',\n",
       " 'BRANCH_STATE',\n",
       " 'BRANCH_STREET',\n",
       " 'BRANCH_ZIP',\n",
       " 'LAST_UPDATED']"
      ]
     },
     "execution_count": 4,
     "metadata": {},
     "output_type": "execute_result"
    }
   ],
   "source": [
    "print(f\"rows: {df.count()}\")\n",
    "print(len(df.columns))\n",
    "df.describe().show()\n",
    "df.printSchema()\n",
    "df.columns"
   ]
  },
  {
   "attachments": {},
   "cell_type": "markdown",
   "metadata": {},
   "source": [
    "### If the source value is null load default (99999) value else Direct move"
   ]
  },
  {
   "cell_type": "code",
   "execution_count": 5,
   "metadata": {},
   "outputs": [],
   "source": [
    "df = df.withColumn(\"BRANCH_ZIP\", when(col(\"BRANCH_ZIP\").isNull(), lit(\"99999\")).otherwise(col(\"BRANCH_ZIP\")))"
   ]
  },
  {
   "cell_type": "code",
   "execution_count": 6,
   "metadata": {},
   "outputs": [
    {
     "data": {
      "text/plain": [
       "[('BRANCH_CITY', 'string'),\n",
       " ('BRANCH_CODE', 'int'),\n",
       " ('BRANCH_NAME', 'string'),\n",
       " ('BRANCH_PHONE', 'string'),\n",
       " ('BRANCH_STATE', 'string'),\n",
       " ('BRANCH_STREET', 'string'),\n",
       " ('BRANCH_ZIP', 'int'),\n",
       " ('LAST_UPDATED', 'timestamp')]"
      ]
     },
     "execution_count": 6,
     "metadata": {},
     "output_type": "execute_result"
    }
   ],
   "source": [
    "df = df.withColumn(\"BRANCH_ZIP\", col(\"BRANCH_ZIP\").cast(IntegerType()))\n",
    "df = df.withColumn(\"BRANCH_CODE\", col(\"BRANCH_CODE\").cast(IntegerType()))\n",
    "df = df.withColumn(\"LAST_UPDATED\", col(\"LAST_UPDATED\").cast(TimestampType()))\n",
    "\n",
    "df.dtypes"
   ]
  },
  {
   "attachments": {},
   "cell_type": "markdown",
   "metadata": {},
   "source": [
    "### Change the format of phone number to (XXX)XXX-XXXX"
   ]
  },
  {
   "cell_type": "code",
   "execution_count": 7,
   "metadata": {},
   "outputs": [
    {
     "name": "stdout",
     "output_type": "stream",
     "text": [
      "+-----------------+-----------+------------+--------------+------------+-------------------+----------+-------------------+\n",
      "|BRANCH_CITY      |BRANCH_CODE|BRANCH_NAME |BRANCH_PHONE  |BRANCH_STATE|BRANCH_STREET      |BRANCH_ZIP|LAST_UPDATED       |\n",
      "+-----------------+-----------+------------+--------------+------------+-------------------+----------+-------------------+\n",
      "|Lakeville        |1          |Example Bank|(123) 456-5276|MN          |Bridle Court       |55044     |2018-04-18 16:51:47|\n",
      "|Huntley          |2          |Example Bank|(123) 461-8993|IL          |Washington Street  |60142     |2018-04-18 16:51:47|\n",
      "|SouthRichmondHill|3          |Example Bank|(123) 498-5926|NY          |Warren Street      |11419     |2018-04-18 16:51:47|\n",
      "|Middleburg       |4          |Example Bank|(123) 466-3064|FL          |Cleveland Street   |32068     |2018-04-18 16:51:47|\n",
      "|KingOfPrussia    |5          |Example Bank|(123) 484-9701|PA          |14th Street        |19406     |2018-04-18 16:51:47|\n",
      "|Paterson         |7          |Example Bank|(123) 414-4890|NJ          |Jefferson Street   |7501      |2018-04-18 16:51:47|\n",
      "|Pittsford        |8          |Example Bank|(123) 467-8272|NY          |B Street           |14534     |2018-04-18 16:51:47|\n",
      "|Wethersfield     |9          |Example Bank|(123) 467-5219|CT          |Jefferson Court    |6109      |2018-04-18 16:51:47|\n",
      "|NorthOlmsted     |10         |Example Bank|(123) 414-5047|OH          |Cambridge Road     |44070     |2018-04-18 16:51:47|\n",
      "|Hillsborough     |11         |Example Bank|(123) 436-6354|NJ          |3rd Street West    |8844      |2018-04-18 16:51:47|\n",
      "|MadisonHeights   |12         |Example Bank|(123) 486-7175|MI          |Mill Road          |48071     |2018-04-18 16:51:47|\n",
      "|Oviedo           |14         |Example Bank|(123) 493-8460|FL          |Washington Street  |32765     |2018-04-18 16:51:47|\n",
      "|Mechanicsburg    |15         |Example Bank|(123) 446-2043|PA          |Chestnut Street    |17050     |2018-04-18 16:51:47|\n",
      "|Plainview        |16         |Example Bank|(123) 485-7525|NY          |Monroe Drive       |11803     |2018-04-18 16:51:47|\n",
      "|Paducah          |17         |Example Bank|(123) 454-6360|KY          |Railroad Street    |42001     |2018-04-18 16:51:47|\n",
      "|Harleysville     |18         |Example Bank|(123) 482-4455|PA          |Church Street South|19438     |2018-04-18 16:51:47|\n",
      "|SilverSpring     |19         |Example Bank|(123) 448-4380|MD          |King Street        |20901     |2018-04-18 16:51:47|\n",
      "|Burnsville       |20         |Example Bank|(123) 484-0138|MN          |Canterbury Drive   |55337     |2018-04-18 16:51:47|\n",
      "|Tacoma           |21         |Example Bank|(123) 436-2433|WA          |2nd Avenue         |98444     |2018-04-18 16:51:47|\n",
      "|Carlisle         |22         |Example Bank|(123) 492-2492|PA          |Front Street South |17013     |2018-04-18 16:51:47|\n",
      "+-----------------+-----------+------------+--------------+------------+-------------------+----------+-------------------+\n",
      "only showing top 20 rows\n",
      "\n"
     ]
    }
   ],
   "source": [
    "df = df.withColumn(\"BRANCH_PHONE\",\n",
    "                                     concat(lit(\"(\"),\n",
    "                                            substring(df.BRANCH_PHONE, 1, 3),\n",
    "                                            lit(\") \"),\n",
    "                                            substring(df.BRANCH_PHONE, 4, 3),\n",
    "                                            lit(\"-\"),\n",
    "                                            substring(df.BRANCH_PHONE, 7, 4)))\n",
    "df.show(truncate=False)"
   ]
  },
  {
   "attachments": {},
   "cell_type": "markdown",
   "metadata": {},
   "source": [
    "### Rearranging the columns"
   ]
  },
  {
   "cell_type": "code",
   "execution_count": 8,
   "metadata": {},
   "outputs": [],
   "source": [
    "CDW_SAPP_BRANCH = df.select(\"BRANCH_CODE\",\"BRANCH_NAME\",\"BRANCH_STREET\",\"BRANCH_CITY\",\"BRANCH_STATE\",\"BRANCH_ZIP\",\"BRANCH_PHONE\",\"LAST_UPDATED\")"
   ]
  },
  {
   "attachments": {},
   "cell_type": "markdown",
   "metadata": {},
   "source": [
    "### Displaying the DF"
   ]
  },
  {
   "cell_type": "code",
   "execution_count": 9,
   "metadata": {},
   "outputs": [
    {
     "name": "stdout",
     "output_type": "stream",
     "text": [
      "+-----------+------------+-------------------+-----------------+------------+----------+--------------+-------------------+\n",
      "|BRANCH_CODE| BRANCH_NAME|      BRANCH_STREET|      BRANCH_CITY|BRANCH_STATE|BRANCH_ZIP|  BRANCH_PHONE|       LAST_UPDATED|\n",
      "+-----------+------------+-------------------+-----------------+------------+----------+--------------+-------------------+\n",
      "|          1|Example Bank|       Bridle Court|        Lakeville|          MN|     55044|(123) 456-5276|2018-04-18 16:51:47|\n",
      "|          2|Example Bank|  Washington Street|          Huntley|          IL|     60142|(123) 461-8993|2018-04-18 16:51:47|\n",
      "|          3|Example Bank|      Warren Street|SouthRichmondHill|          NY|     11419|(123) 498-5926|2018-04-18 16:51:47|\n",
      "|          4|Example Bank|   Cleveland Street|       Middleburg|          FL|     32068|(123) 466-3064|2018-04-18 16:51:47|\n",
      "|          5|Example Bank|        14th Street|    KingOfPrussia|          PA|     19406|(123) 484-9701|2018-04-18 16:51:47|\n",
      "|          7|Example Bank|   Jefferson Street|         Paterson|          NJ|      7501|(123) 414-4890|2018-04-18 16:51:47|\n",
      "|          8|Example Bank|           B Street|        Pittsford|          NY|     14534|(123) 467-8272|2018-04-18 16:51:47|\n",
      "|          9|Example Bank|    Jefferson Court|     Wethersfield|          CT|      6109|(123) 467-5219|2018-04-18 16:51:47|\n",
      "|         10|Example Bank|     Cambridge Road|     NorthOlmsted|          OH|     44070|(123) 414-5047|2018-04-18 16:51:47|\n",
      "|         11|Example Bank|    3rd Street West|     Hillsborough|          NJ|      8844|(123) 436-6354|2018-04-18 16:51:47|\n",
      "|         12|Example Bank|          Mill Road|   MadisonHeights|          MI|     48071|(123) 486-7175|2018-04-18 16:51:47|\n",
      "|         14|Example Bank|  Washington Street|           Oviedo|          FL|     32765|(123) 493-8460|2018-04-18 16:51:47|\n",
      "|         15|Example Bank|    Chestnut Street|    Mechanicsburg|          PA|     17050|(123) 446-2043|2018-04-18 16:51:47|\n",
      "|         16|Example Bank|       Monroe Drive|        Plainview|          NY|     11803|(123) 485-7525|2018-04-18 16:51:47|\n",
      "|         17|Example Bank|    Railroad Street|          Paducah|          KY|     42001|(123) 454-6360|2018-04-18 16:51:47|\n",
      "|         18|Example Bank|Church Street South|     Harleysville|          PA|     19438|(123) 482-4455|2018-04-18 16:51:47|\n",
      "|         19|Example Bank|        King Street|     SilverSpring|          MD|     20901|(123) 448-4380|2018-04-18 16:51:47|\n",
      "|         20|Example Bank|   Canterbury Drive|       Burnsville|          MN|     55337|(123) 484-0138|2018-04-18 16:51:47|\n",
      "|         21|Example Bank|         2nd Avenue|           Tacoma|          WA|     98444|(123) 436-2433|2018-04-18 16:51:47|\n",
      "|         22|Example Bank| Front Street South|         Carlisle|          PA|     17013|(123) 492-2492|2018-04-18 16:51:47|\n",
      "+-----------+------------+-------------------+-----------------+------------+----------+--------------+-------------------+\n",
      "only showing top 20 rows\n",
      "\n"
     ]
    }
   ],
   "source": [
    "CDW_SAPP_BRANCH.show()"
   ]
  },
  {
   "attachments": {},
   "cell_type": "markdown",
   "metadata": {},
   "source": [
    "### Checking the Data Types"
   ]
  },
  {
   "cell_type": "code",
   "execution_count": 10,
   "metadata": {},
   "outputs": [
    {
     "data": {
      "text/plain": [
       "[('BRANCH_CODE', 'int'),\n",
       " ('BRANCH_NAME', 'string'),\n",
       " ('BRANCH_STREET', 'string'),\n",
       " ('BRANCH_CITY', 'string'),\n",
       " ('BRANCH_STATE', 'string'),\n",
       " ('BRANCH_ZIP', 'int'),\n",
       " ('BRANCH_PHONE', 'string'),\n",
       " ('LAST_UPDATED', 'timestamp')]"
      ]
     },
     "execution_count": 10,
     "metadata": {},
     "output_type": "execute_result"
    }
   ],
   "source": [
    "CDW_SAPP_BRANCH.dtypes"
   ]
  },
  {
   "attachments": {},
   "cell_type": "markdown",
   "metadata": {},
   "source": [
    "### Load data into MYSQL Database called creditcard_capstone"
   ]
  },
  {
   "cell_type": "code",
   "execution_count": 11,
   "metadata": {},
   "outputs": [],
   "source": [
    "CDW_SAPP_BRANCH.write.format(\"jdbc\") \\\n",
    "  .mode(\"append\") \\\n",
    "  .option(\"url\", \"jdbc:mysql://localhost:3306/creditcard_capstone\") \\\n",
    "  .option(\"dbtable\", \"CDW_SAPP_BRANCH\") \\\n",
    "  .option(\"user\", \"root\") \\\n",
    "  .option(\"password\", \"password\") \\\n",
    "  .save()"
   ]
  }
 ],
 "metadata": {
  "kernelspec": {
   "display_name": "Python 3",
   "language": "python",
   "name": "python3"
  },
  "language_info": {
   "codemirror_mode": {
    "name": "ipython",
    "version": 3
   },
   "file_extension": ".py",
   "mimetype": "text/x-python",
   "name": "python",
   "nbconvert_exporter": "python",
   "pygments_lexer": "ipython3",
   "version": "3.10.10"
  },
  "orig_nbformat": 4
 },
 "nbformat": 4,
 "nbformat_minor": 2
}
