{
 "cells": [
  {
   "attachments": {},
   "cell_type": "markdown",
   "metadata": {},
   "source": [
    "### Import all python Liberies"
   ]
  },
  {
   "cell_type": "code",
   "execution_count": 1,
   "metadata": {},
   "outputs": [],
   "source": [
    "import pandas as pd\n",
    "import numpy as np\n",
    "from pyspark.sql import SparkSession\n",
    "from pyspark.sql.functions import *\n",
    "from pyspark.sql.types import *\n",
    "import matplotlib.pyplot as plt\n"
   ]
  },
  {
   "attachments": {},
   "cell_type": "markdown",
   "metadata": {},
   "source": [
    "### Create spark session and load json files spark Dataframe"
   ]
  },
  {
   "cell_type": "code",
   "execution_count": 2,
   "metadata": {},
   "outputs": [
    {
     "name": "stdout",
     "output_type": "stream",
     "text": [
      "+------+----------------+------------+-------------+-------------------+----------+----------+--------+----------+---------+--------------------+-----------+---------+-----------------+\n",
      "|APT_NO|  CREDIT_CARD_NO|   CUST_CITY| CUST_COUNTRY|         CUST_EMAIL|CUST_PHONE|CUST_STATE|CUST_ZIP|FIRST_NAME|LAST_NAME|        LAST_UPDATED|MIDDLE_NAME|      SSN|      STREET_NAME|\n",
      "+------+----------------+------------+-------------+-------------------+----------+----------+--------+----------+---------+--------------------+-----------+---------+-----------------+\n",
      "|   656|4210653310061055|     Natchez|United States|AHooper@example.com|   1237818|        MS|   39120|      Alec|   Hooper|2018-04-21T12:49:...|         Wm|123456100|Main Street North|\n",
      "|   829|4210653310102868|Wethersfield|United States|EHolman@example.com|   1238933|        CT|   06109|      Etta|   Holman|2018-04-21T12:49:...|    Brendan|123453023|    Redwood Drive|\n",
      "|   683|4210653310116272|     Huntley|United States|WDunham@example.com|   1243018|        IL|   60142|    Wilber|   Dunham|2018-04-21T12:49:...|   Ezequiel|123454487| 12th Street East|\n",
      "|   253|4210653310195948|   NewBerlin|United States| EHardy@example.com|   1243215|        WI|   53151|   Eugenio|    Hardy|2018-04-21T12:49:...|      Trina|123459758|Country Club Road|\n",
      "|   301|4210653310356919|      ElPaso|United States| WAyers@example.com|   1242074|        TX|   79930|   Wilfred|    Ayers|2018-04-21T12:49:...|        May|123454431|   Madison Street|\n",
      "+------+----------------+------------+-------------+-------------------+----------+----------+--------+----------+---------+--------------------+-----------+---------+-----------------+\n",
      "only showing top 5 rows\n",
      "\n"
     ]
    }
   ],
   "source": [
    "spark = SparkSession.Builder().appName(\"Loan credit card\").getOrCreate()\n",
    "\n",
    "df= spark.read.json(\"datasets/cdw_sapp_custmer.json\")\n",
    "\n",
    "df.show(5)"
   ]
  },
  {
   "attachments": {},
   "cell_type": "markdown",
   "metadata": {},
   "source": [
    "### Print details about the dataFrame"
   ]
  },
  {
   "cell_type": "code",
   "execution_count": 3,
   "metadata": {},
   "outputs": [
    {
     "name": "stdout",
     "output_type": "stream",
     "text": [
      "rows: 952\n",
      "14\n",
      "+-------+------------------+--------------------+---------+-------------+--------------------+------------------+----------+------------------+----------+---------+--------------------+-----------+--------------------+-----------+\n",
      "|summary|            APT_NO|      CREDIT_CARD_NO|CUST_CITY| CUST_COUNTRY|          CUST_EMAIL|        CUST_PHONE|CUST_STATE|          CUST_ZIP|FIRST_NAME|LAST_NAME|        LAST_UPDATED|MIDDLE_NAME|                 SSN|STREET_NAME|\n",
      "+-------+------------------+--------------------+---------+-------------+--------------------+------------------+----------+------------------+----------+---------+--------------------+-----------+--------------------+-----------+\n",
      "|  count|               952|                 952|      952|          952|                 952|               952|       952|               952|       952|      952|                 952|        952|                 952|        952|\n",
      "|   mean| 507.3382352941176|4.210653353718597...|     null|         null|                null|1239196.6649159663|      null|36312.616596638654|      null|     null|                null|       null|1.2345552588130252E8|       null|\n",
      "| stddev|287.20283977678935| 2.576300828101659E7|     null|         null|                null| 2612.648026005403|      null| 23945.49431677531|      null|     null|                null|       null|  2561.1858044909427|       null|\n",
      "|    min|                 1|    4210653310061055|  Acworth|United States|AAguilar@example.com|           1234574|        AL|             01810|      Abby|   Abbott|2018-04-21T12:49:...|       Abby|           123451007|10th Street|\n",
      "|    max|               998|    4210653399939240|     Zion|United States|ZStratton@example...|           1243558|        WI|             98908|     Zelma|   Zapata|2018-04-21T12:49:...|    Zachary|           123459988|York Street|\n",
      "+-------+------------------+--------------------+---------+-------------+--------------------+------------------+----------+------------------+----------+---------+--------------------+-----------+--------------------+-----------+\n",
      "\n",
      "root\n",
      " |-- APT_NO: string (nullable = true)\n",
      " |-- CREDIT_CARD_NO: string (nullable = true)\n",
      " |-- CUST_CITY: string (nullable = true)\n",
      " |-- CUST_COUNTRY: string (nullable = true)\n",
      " |-- CUST_EMAIL: string (nullable = true)\n",
      " |-- CUST_PHONE: long (nullable = true)\n",
      " |-- CUST_STATE: string (nullable = true)\n",
      " |-- CUST_ZIP: string (nullable = true)\n",
      " |-- FIRST_NAME: string (nullable = true)\n",
      " |-- LAST_NAME: string (nullable = true)\n",
      " |-- LAST_UPDATED: string (nullable = true)\n",
      " |-- MIDDLE_NAME: string (nullable = true)\n",
      " |-- SSN: long (nullable = true)\n",
      " |-- STREET_NAME: string (nullable = true)\n",
      "\n"
     ]
    },
    {
     "data": {
      "text/plain": [
       "['APT_NO',\n",
       " 'CREDIT_CARD_NO',\n",
       " 'CUST_CITY',\n",
       " 'CUST_COUNTRY',\n",
       " 'CUST_EMAIL',\n",
       " 'CUST_PHONE',\n",
       " 'CUST_STATE',\n",
       " 'CUST_ZIP',\n",
       " 'FIRST_NAME',\n",
       " 'LAST_NAME',\n",
       " 'LAST_UPDATED',\n",
       " 'MIDDLE_NAME',\n",
       " 'SSN',\n",
       " 'STREET_NAME']"
      ]
     },
     "execution_count": 3,
     "metadata": {},
     "output_type": "execute_result"
    }
   ],
   "source": [
    "print(f\"rows: {df.count()}\")\n",
    "print(len(df.columns))\n",
    "df.describe().show()\n",
    "df.printSchema()\n",
    "df.columns"
   ]
  },
  {
   "attachments": {},
   "cell_type": "markdown",
   "metadata": {},
   "source": [
    "### Typecasting Datatypes"
   ]
  },
  {
   "cell_type": "code",
   "execution_count": 4,
   "metadata": {},
   "outputs": [
    {
     "data": {
      "text/plain": [
       "[('APT_NO', 'string'),\n",
       " ('CREDIT_CARD_NO', 'string'),\n",
       " ('CUST_CITY', 'string'),\n",
       " ('CUST_COUNTRY', 'string'),\n",
       " ('CUST_EMAIL', 'string'),\n",
       " ('CUST_PHONE', 'string'),\n",
       " ('CUST_STATE', 'string'),\n",
       " ('CUST_ZIP', 'int'),\n",
       " ('FIRST_NAME', 'string'),\n",
       " ('LAST_NAME', 'string'),\n",
       " ('LAST_UPDATED', 'timestamp'),\n",
       " ('MIDDLE_NAME', 'string'),\n",
       " ('SSN', 'int'),\n",
       " ('STREET_NAME', 'string')]"
      ]
     },
     "execution_count": 4,
     "metadata": {},
     "output_type": "execute_result"
    }
   ],
   "source": [
    "df = df.withColumn(\"CUST_PHONE\", col(\"CUST_PHONE\").cast(StringType()))\n",
    "df = df.withColumn(\"SSN\", col(\"SSN\").cast(IntegerType()))\n",
    "df = df.withColumn(\"CUST_ZIP\", col(\"CUST_ZIP\").cast(IntegerType()))\n",
    "df = df.withColumn(\"LAST_UPDATED\", col(\"LAST_UPDATED\").cast(TimestampType()))\n",
    "\n",
    "\n",
    "df.dtypes"
   ]
  },
  {
   "attachments": {},
   "cell_type": "markdown",
   "metadata": {},
   "source": [
    "### Working with upper/lower cases"
   ]
  },
  {
   "cell_type": "code",
   "execution_count": 5,
   "metadata": {},
   "outputs": [
    {
     "name": "stdout",
     "output_type": "stream",
     "text": [
      "+------+----------------+------------+-------------+--------------------+----------+----------+--------+----------+---------+-------------------+-----------+---------+-----------------+\n",
      "|APT_NO|  CREDIT_CARD_NO|   CUST_CITY| CUST_COUNTRY|          CUST_EMAIL|CUST_PHONE|CUST_STATE|CUST_ZIP|FIRST_NAME|LAST_NAME|       LAST_UPDATED|MIDDLE_NAME|      SSN|      STREET_NAME|\n",
      "+------+----------------+------------+-------------+--------------------+----------+----------+--------+----------+---------+-------------------+-----------+---------+-----------------+\n",
      "|   656|4210653310061055|     Natchez|United States| AHooper@example.com|   1237818|        MS|   39120|      Alec|   Hooper|2018-04-21 12:49:02|         wm|123456100|Main Street North|\n",
      "|   829|4210653310102868|Wethersfield|United States| EHolman@example.com|   1238933|        CT|    6109|      Etta|   Holman|2018-04-21 12:49:02|    brendan|123453023|    Redwood Drive|\n",
      "|   683|4210653310116272|     Huntley|United States| WDunham@example.com|   1243018|        IL|   60142|    Wilber|   Dunham|2018-04-21 12:49:02|   ezequiel|123454487| 12th Street East|\n",
      "|   253|4210653310195948|   NewBerlin|United States|  EHardy@example.com|   1243215|        WI|   53151|   Eugenio|    Hardy|2018-04-21 12:49:02|      trina|123459758|Country Club Road|\n",
      "|   301|4210653310356919|      ElPaso|United States|  WAyers@example.com|   1242074|        TX|   79930|   Wilfred|    Ayers|2018-04-21 12:49:02|        may|123454431|   Madison Street|\n",
      "|     3|4210653310395982|NorthOlmsted|United States|BWoodard@example.com|   1242570|        OH|   44070|      Beau|  Woodard|2018-04-21 12:49:02|    ambrose|123454202|   Colonial Drive|\n",
      "|    84|4210653310400536|      Vienna|United States|   SKemp@example.com|   1239685|        VA|   22180|    Sheila|     Kemp|2018-04-21 12:49:02|      larry|123451799|   Belmont Avenue|\n",
      "|   728|4210653310459911|      Duarte|United States| WHurley@example.com|   1238213|        CA|   91010|     Wendy|   Hurley|2018-04-21 12:49:02|        ora|123453875|     Oxford Court|\n",
      "|    81|4210653310773972|      Owosso|United States|AGilmore@example.com|   1240689|        MI|   48867|      Alec|  Gilmore|2018-04-21 12:49:02|     tracie|123457511|    Forest Street|\n",
      "|   561|4210653310794854|        Zion|United States|    BLau@example.com|   1235222|        IL|   60099|    Barbra|      Lau|2018-04-21 12:49:02|    mitchel|123457464|     Court Street|\n",
      "|   622|4210653310817373|  Youngstown|United States|EThomson@example.com|   1241363|        OH|   44512|   Edmundo|  Thomson|2018-04-21 12:49:02|      denny|123457639|    Cypress Court|\n",
      "|   924|4210653310844617| Summerville|United States| ETruong@example.com|   1236228|        SC|   29483|      Elsa|   Truong|2018-04-21 12:49:02|   isabelle|123453242|  8th Street West|\n",
      "|   611|4210653311015303|      ElPaso|United States|HMckinney@example...|   1238165|        TX|   79930|     Homer| Mckinney|2018-04-21 12:49:02|      henry|123454339|      East Avenue|\n",
      "|   680|4210653311215039|      Fenton|United States|   RKidd@example.com|   1234730|        MI|   48430|      Rita|     Kidd|2018-04-21 12:49:02|     rickey|123454537|         Route 44|\n",
      "|    71|4210653311229354|  Grandville|United States|ABallard@example.com|   1242113|        MI|   49418|    Amalia|  Ballard|2018-04-21 12:49:02|  heriberto|123452373|    Warren Street|\n",
      "|   195|4210653311652836|    YubaCity|United States| PThomas@example.com|   1239888|        CA|   95993|     Patty|   Thomas|2018-04-21 12:49:02|   angelita|123455343|     Jones Street|\n",
      "|   500|4210653311707126|   CapeCoral|United States| JMorrow@example.com|   1240158|        FL|   33904|  Josefina|   Morrow|2018-04-21 12:49:02|   dorothea|123451533|       New Street|\n",
      "|   989|4210653311730764|  Brookfield|United States|NAndrews@example.com|   1241408|        WI|   53045|    Nelson|  Andrews|2018-04-21 12:49:02|  jefferson|123459278|  Division Street|\n",
      "|   810|4210653311898082|    Richmond|United States|MSchneider@exampl...|   1238390|        VA|   23223|    Miquel|Schneider|2018-04-21 12:49:02|     maximo|123456915|     Maple Street|\n",
      "|   649|4210653312021765| WestChester|United States|PTidwell@example.com|   1235067|        PA|   19380|    Parker|  Tidwell|2018-04-21 12:49:02|    arnulfo|123453807|       Eagle Road|\n",
      "+------+----------------+------------+-------------+--------------------+----------+----------+--------+----------+---------+-------------------+-----------+---------+-----------------+\n",
      "only showing top 20 rows\n",
      "\n"
     ]
    }
   ],
   "source": [
    "df = df.withColumn(\"FIRST_NAME\", initcap(\"FIRST_NAME\"))\n",
    "df = df.withColumn(\"MIDDLE_NAME\", lower(\"MIDDLE_NAME\"))\n",
    "df = df.withColumn(\"LAST_NAME\", initcap(\"LAST_NAME\"))\n",
    "\n",
    "df.show()\n"
   ]
  },
  {
   "attachments": {},
   "cell_type": "markdown",
   "metadata": {},
   "source": [
    "### Aggregating address"
   ]
  },
  {
   "cell_type": "code",
   "execution_count": 7,
   "metadata": {},
   "outputs": [
    {
     "name": "stdout",
     "output_type": "stream",
     "text": [
      "+------+----------------+------------+-------------+--------------------+----------+----------+--------+----------+---------+-------------------+-----------+---------+-----------------+--------------------+\n",
      "|APT_NO|  CREDIT_CARD_NO|   CUST_CITY| CUST_COUNTRY|          CUST_EMAIL|CUST_PHONE|CUST_STATE|CUST_ZIP|FIRST_NAME|LAST_NAME|       LAST_UPDATED|MIDDLE_NAME|      SSN|      STREET_NAME| FULL_STREET_ADDRESS|\n",
      "+------+----------------+------------+-------------+--------------------+----------+----------+--------+----------+---------+-------------------+-----------+---------+-----------------+--------------------+\n",
      "|   656|4210653310061055|     Natchez|United States| AHooper@example.com|   1237818|        MS|   39120|      Alec|   Hooper|2018-04-21 12:49:02|         wm|123456100|Main Street North|656, Main Street ...|\n",
      "|   829|4210653310102868|Wethersfield|United States| EHolman@example.com|   1238933|        CT|    6109|      Etta|   Holman|2018-04-21 12:49:02|    brendan|123453023|    Redwood Drive|  829, Redwood Drive|\n",
      "|   683|4210653310116272|     Huntley|United States| WDunham@example.com|   1243018|        IL|   60142|    Wilber|   Dunham|2018-04-21 12:49:02|   ezequiel|123454487| 12th Street East|683, 12th Street ...|\n",
      "|   253|4210653310195948|   NewBerlin|United States|  EHardy@example.com|   1243215|        WI|   53151|   Eugenio|    Hardy|2018-04-21 12:49:02|      trina|123459758|Country Club Road|253, Country Club...|\n",
      "|   301|4210653310356919|      ElPaso|United States|  WAyers@example.com|   1242074|        TX|   79930|   Wilfred|    Ayers|2018-04-21 12:49:02|        may|123454431|   Madison Street| 301, Madison Street|\n",
      "|     3|4210653310395982|NorthOlmsted|United States|BWoodard@example.com|   1242570|        OH|   44070|      Beau|  Woodard|2018-04-21 12:49:02|    ambrose|123454202|   Colonial Drive|   3, Colonial Drive|\n",
      "|    84|4210653310400536|      Vienna|United States|   SKemp@example.com|   1239685|        VA|   22180|    Sheila|     Kemp|2018-04-21 12:49:02|      larry|123451799|   Belmont Avenue|  84, Belmont Avenue|\n",
      "|   728|4210653310459911|      Duarte|United States| WHurley@example.com|   1238213|        CA|   91010|     Wendy|   Hurley|2018-04-21 12:49:02|        ora|123453875|     Oxford Court|   728, Oxford Court|\n",
      "|    81|4210653310773972|      Owosso|United States|AGilmore@example.com|   1240689|        MI|   48867|      Alec|  Gilmore|2018-04-21 12:49:02|     tracie|123457511|    Forest Street|   81, Forest Street|\n",
      "|   561|4210653310794854|        Zion|United States|    BLau@example.com|   1235222|        IL|   60099|    Barbra|      Lau|2018-04-21 12:49:02|    mitchel|123457464|     Court Street|   561, Court Street|\n",
      "|   622|4210653310817373|  Youngstown|United States|EThomson@example.com|   1241363|        OH|   44512|   Edmundo|  Thomson|2018-04-21 12:49:02|      denny|123457639|    Cypress Court|  622, Cypress Court|\n",
      "|   924|4210653310844617| Summerville|United States| ETruong@example.com|   1236228|        SC|   29483|      Elsa|   Truong|2018-04-21 12:49:02|   isabelle|123453242|  8th Street West|924, 8th Street West|\n",
      "|   611|4210653311015303|      ElPaso|United States|HMckinney@example...|   1238165|        TX|   79930|     Homer| Mckinney|2018-04-21 12:49:02|      henry|123454339|      East Avenue|    611, East Avenue|\n",
      "|   680|4210653311215039|      Fenton|United States|   RKidd@example.com|   1234730|        MI|   48430|      Rita|     Kidd|2018-04-21 12:49:02|     rickey|123454537|         Route 44|       680, Route 44|\n",
      "|    71|4210653311229354|  Grandville|United States|ABallard@example.com|   1242113|        MI|   49418|    Amalia|  Ballard|2018-04-21 12:49:02|  heriberto|123452373|    Warren Street|   71, Warren Street|\n",
      "|   195|4210653311652836|    YubaCity|United States| PThomas@example.com|   1239888|        CA|   95993|     Patty|   Thomas|2018-04-21 12:49:02|   angelita|123455343|     Jones Street|   195, Jones Street|\n",
      "|   500|4210653311707126|   CapeCoral|United States| JMorrow@example.com|   1240158|        FL|   33904|  Josefina|   Morrow|2018-04-21 12:49:02|   dorothea|123451533|       New Street|     500, New Street|\n",
      "|   989|4210653311730764|  Brookfield|United States|NAndrews@example.com|   1241408|        WI|   53045|    Nelson|  Andrews|2018-04-21 12:49:02|  jefferson|123459278|  Division Street|989, Division Street|\n",
      "|   810|4210653311898082|    Richmond|United States|MSchneider@exampl...|   1238390|        VA|   23223|    Miquel|Schneider|2018-04-21 12:49:02|     maximo|123456915|     Maple Street|   810, Maple Street|\n",
      "|   649|4210653312021765| WestChester|United States|PTidwell@example.com|   1235067|        PA|   19380|    Parker|  Tidwell|2018-04-21 12:49:02|    arnulfo|123453807|       Eagle Road|     649, Eagle Road|\n",
      "+------+----------------+------------+-------------+--------------------+----------+----------+--------+----------+---------+-------------------+-----------+---------+-----------------+--------------------+\n",
      "only showing top 20 rows\n",
      "\n"
     ]
    }
   ],
   "source": [
    "agg_address_df = df.withColumn(\"FULL_STREET_ADDRESS\", concat(df[\"APT_NO\"], lit(\", \"), df[\"STREET_NAME\"]))\n",
    "\n",
    "agg_address_df.show()"
   ]
  },
  {
   "attachments": {},
   "cell_type": "markdown",
   "metadata": {},
   "source": [
    "### Change the format of phone number to (XXX)XXX-XXXX"
   ]
  },
  {
   "cell_type": "code",
   "execution_count": 8,
   "metadata": {},
   "outputs": [
    {
     "name": "stdout",
     "output_type": "stream",
     "text": [
      "+------+----------------+------------+-------------+----------------------+--------------+----------+--------+----------+---------+-------------------+-----------+---------+-----------------+----------------------+\n",
      "|APT_NO|CREDIT_CARD_NO  |CUST_CITY   |CUST_COUNTRY |CUST_EMAIL            |CUST_PHONE    |CUST_STATE|CUST_ZIP|FIRST_NAME|LAST_NAME|LAST_UPDATED       |MIDDLE_NAME|SSN      |STREET_NAME      |FULL_STREET_ADDRESS   |\n",
      "+------+----------------+------------+-------------+----------------------+--------------+----------+--------+----------+---------+-------------------+-----------+---------+-----------------+----------------------+\n",
      "|656   |4210653310061055|Natchez     |United States|AHooper@example.com   |(242) 123-7818|MS        |39120   |Alec      |Hooper   |2018-04-21 12:49:02|wm         |123456100|Main Street North|656, Main Street North|\n",
      "|829   |4210653310102868|Wethersfield|United States|EHolman@example.com   |(683) 123-8933|CT        |6109    |Etta      |Holman   |2018-04-21 12:49:02|brendan    |123453023|Redwood Drive    |829, Redwood Drive    |\n",
      "|683   |4210653310116272|Huntley     |United States|WDunham@example.com   |(957) 124-3018|IL        |60142   |Wilber    |Dunham   |2018-04-21 12:49:02|ezequiel   |123454487|12th Street East |683, 12th Street East |\n",
      "|253   |4210653310195948|NewBerlin   |United States|EHardy@example.com    |(379) 124-3215|WI        |53151   |Eugenio   |Hardy    |2018-04-21 12:49:02|trina      |123459758|Country Club Road|253, Country Club Road|\n",
      "|301   |4210653310356919|ElPaso      |United States|WAyers@example.com    |(264) 124-2074|TX        |79930   |Wilfred   |Ayers    |2018-04-21 12:49:02|may        |123454431|Madison Street   |301, Madison Street   |\n",
      "|3     |4210653310395982|NorthOlmsted|United States|BWoodard@example.com  |(497) 124-2570|OH        |44070   |Beau      |Woodard  |2018-04-21 12:49:02|ambrose    |123454202|Colonial Drive   |3, Colonial Drive     |\n",
      "|84    |4210653310400536|Vienna      |United States|SKemp@example.com     |(938) 123-9685|VA        |22180   |Sheila    |Kemp     |2018-04-21 12:49:02|larry      |123451799|Belmont Avenue   |84, Belmont Avenue    |\n",
      "|728   |4210653310459911|Duarte      |United States|WHurley@example.com   |(596) 123-8213|CA        |91010   |Wendy     |Hurley   |2018-04-21 12:49:02|ora        |123453875|Oxford Court     |728, Oxford Court     |\n",
      "|81    |4210653310773972|Owosso      |United States|AGilmore@example.com  |(578) 124-0689|MI        |48867   |Alec      |Gilmore  |2018-04-21 12:49:02|tracie     |123457511|Forest Street    |81, Forest Street     |\n",
      "|561   |4210653310794854|Zion        |United States|BLau@example.com      |(733) 123-5222|IL        |60099   |Barbra    |Lau      |2018-04-21 12:49:02|mitchel    |123457464|Court Street     |561, Court Street     |\n",
      "|622   |4210653310817373|Youngstown  |United States|EThomson@example.com  |(455) 124-1363|OH        |44512   |Edmundo   |Thomson  |2018-04-21 12:49:02|denny      |123457639|Cypress Court    |622, Cypress Court    |\n",
      "|924   |4210653310844617|Summerville |United States|ETruong@example.com   |(486) 123-6228|SC        |29483   |Elsa      |Truong   |2018-04-21 12:49:02|isabelle   |123453242|8th Street West  |924, 8th Street West  |\n",
      "|611   |4210653311015303|ElPaso      |United States|HMckinney@example.com |(953) 123-8165|TX        |79930   |Homer     |Mckinney |2018-04-21 12:49:02|henry      |123454339|East Avenue      |611, East Avenue      |\n",
      "|680   |4210653311215039|Fenton      |United States|RKidd@example.com     |(898) 123-4730|MI        |48430   |Rita      |Kidd     |2018-04-21 12:49:02|rickey     |123454537|Route 44         |680, Route 44         |\n",
      "|71    |4210653311229354|Grandville  |United States|ABallard@example.com  |(553) 124-2113|MI        |49418   |Amalia    |Ballard  |2018-04-21 12:49:02|heriberto  |123452373|Warren Street    |71, Warren Street     |\n",
      "|195   |4210653311652836|YubaCity    |United States|PThomas@example.com   |(639) 123-9888|CA        |95993   |Patty     |Thomas   |2018-04-21 12:49:02|angelita   |123455343|Jones Street     |195, Jones Street     |\n",
      "|500   |4210653311707126|CapeCoral   |United States|JMorrow@example.com   |(434) 124-0158|FL        |33904   |Josefina  |Morrow   |2018-04-21 12:49:02|dorothea   |123451533|New Street       |500, New Street       |\n",
      "|989   |4210653311730764|Brookfield  |United States|NAndrews@example.com  |(357) 124-1408|WI        |53045   |Nelson    |Andrews  |2018-04-21 12:49:02|jefferson  |123459278|Division Street  |989, Division Street  |\n",
      "|810   |4210653311898082|Richmond    |United States|MSchneider@example.com|(844) 123-8390|VA        |23223   |Miquel    |Schneider|2018-04-21 12:49:02|maximo     |123456915|Maple Street     |810, Maple Street     |\n",
      "|649   |4210653312021765|WestChester |United States|PTidwell@example.com  |(207) 123-5067|PA        |19380   |Parker    |Tidwell  |2018-04-21 12:49:02|arnulfo    |123453807|Eagle Road       |649, Eagle Road       |\n",
      "+------+----------------+------------+-------------+----------------------+--------------+----------+--------+----------+---------+-------------------+-----------+---------+-----------------+----------------------+\n",
      "only showing top 20 rows\n",
      "\n"
     ]
    }
   ],
   "source": [
    "seed_rang =123\n",
    "\n",
    "customer_df = agg_address_df.withColumn(\"CUST_PHONE\",\n",
    "                   concat(lit(\"(\"),\n",
    "                          lpad((rand(seed=seed_rang) * 900 + 100).cast(\"int\"), 3, \"0\"),\n",
    "                          lit(\") \"),\n",
    "                          substring(df.CUST_PHONE, 1, 3),\n",
    "                          lit(\"-\"),\n",
    "                          substring(df.CUST_PHONE, 4, 3),\n",
    "                          substring(df.CUST_PHONE, 7, 4)))\n",
    "\n",
    "customer_df.show(truncate=False)"
   ]
  },
  {
   "attachments": {},
   "cell_type": "markdown",
   "metadata": {},
   "source": [
    "### Drop colums"
   ]
  },
  {
   "cell_type": "code",
   "execution_count": 9,
   "metadata": {},
   "outputs": [],
   "source": [
    "customer_df=customer_df.drop(\"STREET_NAME\")\n",
    "customer_df=customer_df.drop(\"APT_NO\")"
   ]
  },
  {
   "attachments": {},
   "cell_type": "markdown",
   "metadata": {},
   "source": [
    "### Displaying data types"
   ]
  },
  {
   "cell_type": "code",
   "execution_count": 10,
   "metadata": {},
   "outputs": [
    {
     "name": "stdout",
     "output_type": "stream",
     "text": [
      "+----------------+------------+-------------+--------------------+--------------+----------+--------+----------+---------+-------------------+-----------+---------+--------------------+\n",
      "|  CREDIT_CARD_NO|   CUST_CITY| CUST_COUNTRY|          CUST_EMAIL|    CUST_PHONE|CUST_STATE|CUST_ZIP|FIRST_NAME|LAST_NAME|       LAST_UPDATED|MIDDLE_NAME|      SSN| FULL_STREET_ADDRESS|\n",
      "+----------------+------------+-------------+--------------------+--------------+----------+--------+----------+---------+-------------------+-----------+---------+--------------------+\n",
      "|4210653310061055|     Natchez|United States| AHooper@example.com|(242) 123-7818|        MS|   39120|      Alec|   Hooper|2018-04-21 12:49:02|         wm|123456100|656, Main Street ...|\n",
      "|4210653310102868|Wethersfield|United States| EHolman@example.com|(683) 123-8933|        CT|    6109|      Etta|   Holman|2018-04-21 12:49:02|    brendan|123453023|  829, Redwood Drive|\n",
      "|4210653310116272|     Huntley|United States| WDunham@example.com|(957) 124-3018|        IL|   60142|    Wilber|   Dunham|2018-04-21 12:49:02|   ezequiel|123454487|683, 12th Street ...|\n",
      "|4210653310195948|   NewBerlin|United States|  EHardy@example.com|(379) 124-3215|        WI|   53151|   Eugenio|    Hardy|2018-04-21 12:49:02|      trina|123459758|253, Country Club...|\n",
      "|4210653310356919|      ElPaso|United States|  WAyers@example.com|(264) 124-2074|        TX|   79930|   Wilfred|    Ayers|2018-04-21 12:49:02|        may|123454431| 301, Madison Street|\n",
      "|4210653310395982|NorthOlmsted|United States|BWoodard@example.com|(497) 124-2570|        OH|   44070|      Beau|  Woodard|2018-04-21 12:49:02|    ambrose|123454202|   3, Colonial Drive|\n",
      "|4210653310400536|      Vienna|United States|   SKemp@example.com|(938) 123-9685|        VA|   22180|    Sheila|     Kemp|2018-04-21 12:49:02|      larry|123451799|  84, Belmont Avenue|\n",
      "|4210653310459911|      Duarte|United States| WHurley@example.com|(596) 123-8213|        CA|   91010|     Wendy|   Hurley|2018-04-21 12:49:02|        ora|123453875|   728, Oxford Court|\n",
      "|4210653310773972|      Owosso|United States|AGilmore@example.com|(578) 124-0689|        MI|   48867|      Alec|  Gilmore|2018-04-21 12:49:02|     tracie|123457511|   81, Forest Street|\n",
      "|4210653310794854|        Zion|United States|    BLau@example.com|(733) 123-5222|        IL|   60099|    Barbra|      Lau|2018-04-21 12:49:02|    mitchel|123457464|   561, Court Street|\n",
      "|4210653310817373|  Youngstown|United States|EThomson@example.com|(455) 124-1363|        OH|   44512|   Edmundo|  Thomson|2018-04-21 12:49:02|      denny|123457639|  622, Cypress Court|\n",
      "|4210653310844617| Summerville|United States| ETruong@example.com|(486) 123-6228|        SC|   29483|      Elsa|   Truong|2018-04-21 12:49:02|   isabelle|123453242|924, 8th Street West|\n",
      "|4210653311015303|      ElPaso|United States|HMckinney@example...|(953) 123-8165|        TX|   79930|     Homer| Mckinney|2018-04-21 12:49:02|      henry|123454339|    611, East Avenue|\n",
      "|4210653311215039|      Fenton|United States|   RKidd@example.com|(898) 123-4730|        MI|   48430|      Rita|     Kidd|2018-04-21 12:49:02|     rickey|123454537|       680, Route 44|\n",
      "|4210653311229354|  Grandville|United States|ABallard@example.com|(553) 124-2113|        MI|   49418|    Amalia|  Ballard|2018-04-21 12:49:02|  heriberto|123452373|   71, Warren Street|\n",
      "|4210653311652836|    YubaCity|United States| PThomas@example.com|(639) 123-9888|        CA|   95993|     Patty|   Thomas|2018-04-21 12:49:02|   angelita|123455343|   195, Jones Street|\n",
      "|4210653311707126|   CapeCoral|United States| JMorrow@example.com|(434) 124-0158|        FL|   33904|  Josefina|   Morrow|2018-04-21 12:49:02|   dorothea|123451533|     500, New Street|\n",
      "|4210653311730764|  Brookfield|United States|NAndrews@example.com|(357) 124-1408|        WI|   53045|    Nelson|  Andrews|2018-04-21 12:49:02|  jefferson|123459278|989, Division Street|\n",
      "|4210653311898082|    Richmond|United States|MSchneider@exampl...|(844) 123-8390|        VA|   23223|    Miquel|Schneider|2018-04-21 12:49:02|     maximo|123456915|   810, Maple Street|\n",
      "|4210653312021765| WestChester|United States|PTidwell@example.com|(207) 123-5067|        PA|   19380|    Parker|  Tidwell|2018-04-21 12:49:02|    arnulfo|123453807|     649, Eagle Road|\n",
      "+----------------+------------+-------------+--------------------+--------------+----------+--------+----------+---------+-------------------+-----------+---------+--------------------+\n",
      "only showing top 20 rows\n",
      "\n"
     ]
    }
   ],
   "source": [
    "customer_df.dtypes\n",
    "customer_df.show()"
   ]
  },
  {
   "attachments": {},
   "cell_type": "markdown",
   "metadata": {},
   "source": [
    "### Rearranging the column"
   ]
  },
  {
   "cell_type": "code",
   "execution_count": 11,
   "metadata": {},
   "outputs": [],
   "source": [
    "CDW_SAPP_CUSTOMER = customer_df.select(\"SSN\",\"FIRST_NAME\", \"MIDDLE_NAME\", \"LAST_NAME\",\"Credit_card_no\",\"FULL_STREET_ADDRESS\",\"CUST_CITY\",\"CUST_STATE\",\"CUST_COUNTRY\",\"CUST_ZIP\",\"CUST_PHONE\",\"CUST_EMAIL\",\"LAST_UPDATED\")"
   ]
  },
  {
   "attachments": {},
   "cell_type": "markdown",
   "metadata": {},
   "source": [
    "### Display the Final DF"
   ]
  },
  {
   "cell_type": "code",
   "execution_count": 12,
   "metadata": {},
   "outputs": [
    {
     "name": "stdout",
     "output_type": "stream",
     "text": [
      "+---------+----------+-----------+---------+----------------+--------------------+------------+----------+-------------+--------+--------------+--------------------+-------------------+\n",
      "|      SSN|FIRST_NAME|MIDDLE_NAME|LAST_NAME|  Credit_card_no| FULL_STREET_ADDRESS|   CUST_CITY|CUST_STATE| CUST_COUNTRY|CUST_ZIP|    CUST_PHONE|          CUST_EMAIL|       LAST_UPDATED|\n",
      "+---------+----------+-----------+---------+----------------+--------------------+------------+----------+-------------+--------+--------------+--------------------+-------------------+\n",
      "|123456100|      Alec|         wm|   Hooper|4210653310061055|656, Main Street ...|     Natchez|        MS|United States|   39120|(242) 123-7818| AHooper@example.com|2018-04-21 12:49:02|\n",
      "|123453023|      Etta|    brendan|   Holman|4210653310102868|  829, Redwood Drive|Wethersfield|        CT|United States|    6109|(683) 123-8933| EHolman@example.com|2018-04-21 12:49:02|\n",
      "|123454487|    Wilber|   ezequiel|   Dunham|4210653310116272|683, 12th Street ...|     Huntley|        IL|United States|   60142|(957) 124-3018| WDunham@example.com|2018-04-21 12:49:02|\n",
      "|123459758|   Eugenio|      trina|    Hardy|4210653310195948|253, Country Club...|   NewBerlin|        WI|United States|   53151|(379) 124-3215|  EHardy@example.com|2018-04-21 12:49:02|\n",
      "|123454431|   Wilfred|        may|    Ayers|4210653310356919| 301, Madison Street|      ElPaso|        TX|United States|   79930|(264) 124-2074|  WAyers@example.com|2018-04-21 12:49:02|\n",
      "|123454202|      Beau|    ambrose|  Woodard|4210653310395982|   3, Colonial Drive|NorthOlmsted|        OH|United States|   44070|(497) 124-2570|BWoodard@example.com|2018-04-21 12:49:02|\n",
      "|123451799|    Sheila|      larry|     Kemp|4210653310400536|  84, Belmont Avenue|      Vienna|        VA|United States|   22180|(938) 123-9685|   SKemp@example.com|2018-04-21 12:49:02|\n",
      "|123453875|     Wendy|        ora|   Hurley|4210653310459911|   728, Oxford Court|      Duarte|        CA|United States|   91010|(596) 123-8213| WHurley@example.com|2018-04-21 12:49:02|\n",
      "|123457511|      Alec|     tracie|  Gilmore|4210653310773972|   81, Forest Street|      Owosso|        MI|United States|   48867|(578) 124-0689|AGilmore@example.com|2018-04-21 12:49:02|\n",
      "|123457464|    Barbra|    mitchel|      Lau|4210653310794854|   561, Court Street|        Zion|        IL|United States|   60099|(733) 123-5222|    BLau@example.com|2018-04-21 12:49:02|\n",
      "|123457639|   Edmundo|      denny|  Thomson|4210653310817373|  622, Cypress Court|  Youngstown|        OH|United States|   44512|(455) 124-1363|EThomson@example.com|2018-04-21 12:49:02|\n",
      "|123453242|      Elsa|   isabelle|   Truong|4210653310844617|924, 8th Street West| Summerville|        SC|United States|   29483|(486) 123-6228| ETruong@example.com|2018-04-21 12:49:02|\n",
      "|123454339|     Homer|      henry| Mckinney|4210653311015303|    611, East Avenue|      ElPaso|        TX|United States|   79930|(953) 123-8165|HMckinney@example...|2018-04-21 12:49:02|\n",
      "|123454537|      Rita|     rickey|     Kidd|4210653311215039|       680, Route 44|      Fenton|        MI|United States|   48430|(898) 123-4730|   RKidd@example.com|2018-04-21 12:49:02|\n",
      "|123452373|    Amalia|  heriberto|  Ballard|4210653311229354|   71, Warren Street|  Grandville|        MI|United States|   49418|(553) 124-2113|ABallard@example.com|2018-04-21 12:49:02|\n",
      "|123455343|     Patty|   angelita|   Thomas|4210653311652836|   195, Jones Street|    YubaCity|        CA|United States|   95993|(639) 123-9888| PThomas@example.com|2018-04-21 12:49:02|\n",
      "|123451533|  Josefina|   dorothea|   Morrow|4210653311707126|     500, New Street|   CapeCoral|        FL|United States|   33904|(434) 124-0158| JMorrow@example.com|2018-04-21 12:49:02|\n",
      "|123459278|    Nelson|  jefferson|  Andrews|4210653311730764|989, Division Street|  Brookfield|        WI|United States|   53045|(357) 124-1408|NAndrews@example.com|2018-04-21 12:49:02|\n",
      "|123456915|    Miquel|     maximo|Schneider|4210653311898082|   810, Maple Street|    Richmond|        VA|United States|   23223|(844) 123-8390|MSchneider@exampl...|2018-04-21 12:49:02|\n",
      "|123453807|    Parker|    arnulfo|  Tidwell|4210653312021765|     649, Eagle Road| WestChester|        PA|United States|   19380|(207) 123-5067|PTidwell@example.com|2018-04-21 12:49:02|\n",
      "+---------+----------+-----------+---------+----------------+--------------------+------------+----------+-------------+--------+--------------+--------------------+-------------------+\n",
      "only showing top 20 rows\n",
      "\n"
     ]
    }
   ],
   "source": [
    "CDW_SAPP_CUSTOMER.show()"
   ]
  },
  {
   "attachments": {},
   "cell_type": "markdown",
   "metadata": {},
   "source": [
    "###                          Load data into MYSQL Database called creditcard_capstone"
   ]
  },
  {
   "cell_type": "code",
   "execution_count": 17,
   "metadata": {},
   "outputs": [],
   "source": [
    "CDW_SAPP_CUSTOMER.write.format(\"jdbc\") \\\n",
    "  .mode(\"append\") \\\n",
    "  .option(\"url\", \"jdbc:mysql://localhost:3306/creditcard_capstone\") \\\n",
    "  .option(\"dbtable\", \"CDW_SAPP_CUSTOMER\") \\\n",
    "  .option(\"user\", \"root\") \\\n",
    "  .option(\"password\", \"password\") \\\n",
    "  .save()"
   ]
  },
  {
   "cell_type": "code",
   "execution_count": 13,
   "metadata": {},
   "outputs": [
    {
     "data": {
      "image/png": "[encoded data removed]",
      "text/plain": [
       "<Figure size 1200x600 with 1 Axes>"
      ]
     },
     "metadata": {},
     "output_type": "display_data"
    }
   ],
   "source": [
    "Customer_per_state = CDW_SAPP_CUSTOMER.groupBy(\"CUST_STATE\").count()\n",
    "Customer_per_state = Customer_per_state.orderBy(Customer_per_state[\"count\"].desc())\n",
    "state_counts_pd = Customer_per_state.toPandas()\n",
    "\n",
    "plt.figure(figsize=(12, 6))\n",
    "plt.bar(state_counts_pd[\"CUST_STATE\"], state_counts_pd[\"count\"])\n",
    "plt.xlabel(\"State\")\n",
    "plt.ylabel(\"Number of Customers\")\n",
    "plt.title(\"Number of Customers by State\")\n",
    "plt.show()"
   ]
  }
 ],
 "metadata": {
  "kernelspec": {
   "display_name": "Python 3",
   "language": "python",
   "name": "python3"
  },
  "language_info": {
   "codemirror_mode": {
    "name": "ipython",
    "version": 3
   },
   "file_extension": ".py",
   "mimetype": "text/x-python",
   "name": "python",
   "nbconvert_exporter": "python",
   "pygments_lexer": "ipython3",
   "version": "3.10.10"
  },
  "orig_nbformat": 4
 },
 "nbformat": 4,
 "nbformat_minor": 2
}
